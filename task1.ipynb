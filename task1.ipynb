{
 "cells": [
  {
   "cell_type": "code",
   "execution_count": 10,
   "metadata": {},
   "outputs": [],
   "source": [
    "%%capture --no-stderr\n",
    "%pip install --quiet -U numpy opencv-python rasterio"
   ]
  },
  {
   "cell_type": "code",
   "execution_count": 14,
   "metadata": {},
   "outputs": [],
   "source": [
    "import cv2\n",
    "import numpy as np\n",
    "import rasterio\n",
    "from rasterio.plot import show"
   ]
  },
  {
   "cell_type": "code",
   "execution_count": 18,
   "metadata": {},
   "outputs": [],
   "source": [
    "def dark_object_subtraction(image_path, percentile=0.1):\n",
    "\n",
    "    # Read the image in BGR format\n",
    "       # Load the image\n",
    "    image = cv2.imread(image_path, cv2.IMREAD_UNCHANGED)\n",
    "\n",
    "    if image is None:\n",
    "        raise ValueError(f\"Could not read image from {image_path}\")\n",
    "\n",
    "    # Assume image is a NumPy array (BGR or multispectral)\n",
    "    dark_pixel = np.percentile(image, percentile, axis=(0, 1))\n",
    "    corrected = np.clip(image - dark_pixel, 0, 255).astype(np.uint8)\n",
    "    return corrected"
   ]
  },
  {
   "cell_type": "code",
   "execution_count": 20,
   "metadata": {},
   "outputs": [
    {
     "data": {
      "text/plain": [
       "True"
      ]
     },
     "execution_count": 20,
     "metadata": {},
     "output_type": "execute_result"
    }
   ],
   "source": [
    "# Example usage\n",
    "corrected_image = dark_object_subtraction(\"testfiles/DJI_0025-h60.jpeg\")\n",
    "cv2.imwrite(\"corrected_image.jpeg\", corrected_image)"
   ]
  },
  {
   "cell_type": "markdown",
   "metadata": {},
   "source": [
    "Complex DOS and RC"
   ]
  },
  {
   "cell_type": "code",
   "execution_count": 6,
   "metadata": {},
   "outputs": [],
   "source": [
    "def rigorous_radiometric_correction(image_path, gain, offset, sunelev, edist, Esun, blackadjust=0.01, percentile=0.1):\n",
    "    \"\"\"\n",
    "    Perform rigorous radiometric correction for a multispectral drone image.\n",
    "    \n",
    "    Parameters:\n",
    "      image_path (str): Path to the multispectral image (e.g., from DJI Mavic 3M)\n",
    "      gain (array-like): Sensor gain for each band (list or numpy array)\n",
    "      offset (array-like): Sensor offset for each band\n",
    "      sunelev (float): Sun elevation in degrees\n",
    "      edist (float): Earth–Sun distance (in astronomical units)\n",
    "      Esun (array-like): Exo-atmospheric solar irradiance for each band\n",
    "      blackadjust (float): Adjustment factor (default 0.01) to account for non‑absolute black\n",
    "      percentile (float): Percentile value (in percent) for dark object estimation (e.g., 0.1 for 0.1th percentile)\n",
    "      \n",
    "    Returns:\n",
    "      np.ndarray: Corrected reflectance image (floating point, typically with values in [0, 1])\n",
    "    \"\"\"\n",
    "    # Load the image (assumed to be multispectral; shape: H x W x bands)\n",
    "    image = cv2.imread(image_path, cv2.IMREAD_UNCHANGED)\n",
    "    if image is None:\n",
    "        raise ValueError(f\"Could not read image from {image_path}\")\n",
    "    \n",
    "    # Convert image to float32 for calculations\n",
    "    image = image.astype(np.float32)\n",
    "    \n",
    "    # Convert digital numbers (DN) to radiance for each band:\n",
    "    # Radiance = gain * DN + offset\n",
    "    h, w, n_bands = image.shape\n",
    "    radiance = np.empty_like(image)\n",
    "    for i in range(n_bands):\n",
    "        radiance[:, :, i] = gain[i] * image[:, :, i] + offset[i]\n",
    "    \n",
    "    # Convert radiance to reflectance.\n",
    "    # Reflectance = (pi * radiance) / (Esun * cos(sun_zenith)) with sun zenith = (90 - sunelev)\n",
    "    sun_zenith = 90 - sunelev\n",
    "    cos_sun_zenith = np.cos(np.deg2rad(sun_zenith))\n",
    "    # Ensure Esun is an array (per band) and apply Earth-Sun distance correction\n",
    "    Esun = np.array(Esun)\n",
    "    reflectance = (np.pi * radiance) / (Esun * cos_sun_zenith)\n",
    "    reflectance = reflectance / (edist ** 2)\n",
    "    \n",
    "    # Estimate the dark object value per band on the reflectance image.\n",
    "    # Using the specified percentile over the spatial dimensions.\n",
    "    dark_obj = np.percentile(reflectance, percentile, axis=(0, 1))  # dark_obj is per band\n",
    "    \n",
    "    # Apply the black adjustment (reduce dark object value by the given fraction)\n",
    "    dark_obj_adj = dark_obj * (1 - blackadjust)\n",
    "    \n",
    "    # Subtract the adjusted dark object value from each band and clip to a valid reflectance range (e.g., [0, 1])\n",
    "    corrected = np.empty_like(reflectance)\n",
    "    for i in range(reflectance.shape[2]):\n",
    "        corrected[:, :, i] = np.clip(reflectance[:, :, i] - dark_obj_adj[i], 0, 1)\n",
    "    \n",
    "    return corrected\n"
   ]
  },
  {
   "cell_type": "code",
   "execution_count": 15,
   "metadata": {},
   "outputs": [],
   "source": [
    "def rigorous_radiometric_correction_rasterio(image_path, gain, offset, sunelev, edist, Esun, blackadjust=0.01, percentile=0.1):\n",
    "    \"\"\"\n",
    "    Perform rigorous radiometric correction for a multispectral image using rasterio.\n",
    "    \n",
    "    Parameters:\n",
    "      image_path (str): Path to the multispectral image\n",
    "      gain (array-like): Sensor gain for each band\n",
    "      offset (array-like): Sensor offset for each band\n",
    "      sunelev (float): Sun elevation in degrees\n",
    "      edist (float): Earth–Sun distance (in astronomical units)\n",
    "      Esun (array-like): Exo-atmospheric solar irradiance for each band\n",
    "      blackadjust (float): Adjustment factor for dark object subtraction\n",
    "      percentile (float): Percentile for dark object estimation\n",
    "      \n",
    "    Returns:\n",
    "      np.ndarray: Corrected reflectance image\n",
    "    \"\"\"\n",
    "    with rasterio.open(image_path) as src:\n",
    "        image = src.read().astype(np.float32)  # Shape: (bands, H, W)\n",
    "    \n",
    "    if image is None:\n",
    "        raise ValueError(f\"Could not read image from {image_path}\")\n",
    "    \n",
    "    # Get number of bands\n",
    "    n_bands, h, w = image.shape\n",
    "    \n",
    "    # Convert digital numbers (DN) to radiance: Radiance = gain * DN + offset\n",
    "    radiance = np.empty_like(image)\n",
    "    for i in range(n_bands):\n",
    "        radiance[i, :, :] = gain[i] * image[i, :, :] + offset[i]\n",
    "    \n",
    "    # Compute sun zenith angle\n",
    "    sun_zenith = 90 - sunelev\n",
    "    cos_sun_zenith = np.cos(np.deg2rad(sun_zenith))\n",
    "    Esun = np.array(Esun)\n",
    "    \n",
    "    # Convert radiance to reflectance\n",
    "    reflectance = (np.pi * radiance) / (Esun[:, None, None] * cos_sun_zenith)\n",
    "    reflectance /= edist ** 2\n",
    "    \n",
    "    # Estimate dark object value per band\n",
    "    dark_obj = np.percentile(reflectance, percentile, axis=(1, 2))\n",
    "    dark_obj_adj = dark_obj * (1 - blackadjust)\n",
    "    \n",
    "    # Apply dark object subtraction and clip\n",
    "    corrected = np.clip(reflectance - dark_obj_adj[:, None, None], 0, 1)\n",
    "    \n",
    "    return corrected\n"
   ]
  },
  {
   "cell_type": "code",
   "execution_count": 16,
   "metadata": {},
   "outputs": [],
   "source": [
    "# Example usage:\n",
    "if __name__ == \"__main__\":\n",
    "    image_path = \"testfiles/20180627_seq_50m_NC.tif\"\n",
    "    gain = [0.1, 0.11, 0.09, 0.1, 0.12]  # 5-band sensor\n",
    "    offset = [1, 1, 1, 1, 1]\n",
    "    sunelev = 60.0\n",
    "    edist = 1.0\n",
    "    Esun = [1800, 1700, 1600, 1500, 1400]\n",
    "    \n",
    "    corrected_reflectance = rigorous_radiometric_correction_rasterio(\n",
    "        image_path, gain, offset, sunelev, edist, Esun, blackadjust=0.01, percentile=0.1\n",
    "    )\n",
    "    \n",
    "    # Save corrected reflectance as a new GeoTIFF\n",
    "    with rasterio.open(image_path) as src:\n",
    "        profile = src.profile.copy()\n",
    "        profile.update(dtype=rasterio.float32, count=corrected_reflectance.shape[0])\n",
    "    \n",
    "    output_path = \"corrected_reflectance.tif\"\n",
    "    with rasterio.open(output_path, 'w', **profile) as dst:\n",
    "        dst.write(corrected_reflectance.astype(np.float32))\n",
    "    \n",
    "    # Visualization (convert to 8-bit)\n",
    "    vis = (corrected_reflectance * 255).astype(np.uint8)\n",
    "    vis_output_path = \"corrected_reflectance_vis.tif\"\n",
    "    with rasterio.open(vis_output_path, 'w', **profile) as dst:\n",
    "        dst.write(vis)"
   ]
  },
  {
   "cell_type": "markdown",
   "metadata": {},
   "source": [
    "Implementing Geometric correction"
   ]
  }
 ],
 "metadata": {
  "kernelspec": {
   "display_name": "venv",
   "language": "python",
   "name": "python3"
  },
  "language_info": {
   "codemirror_mode": {
    "name": "ipython",
    "version": 3
   },
   "file_extension": ".py",
   "mimetype": "text/x-python",
   "name": "python",
   "nbconvert_exporter": "python",
   "pygments_lexer": "ipython3",
   "version": "3.12.3"
  }
 },
 "nbformat": 4,
 "nbformat_minor": 2
}
