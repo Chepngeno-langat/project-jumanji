{
 "cells": [
  {
   "cell_type": "code",
   "execution_count": 10,
   "metadata": {},
   "outputs": [],
   "source": [
    "%%capture --no-stderr\n",
    "%pip install --quiet -U numpy opencv-python"
   ]
  },
  {
   "cell_type": "code",
   "execution_count": 13,
   "metadata": {},
   "outputs": [],
   "source": [
    "import cv2\n",
    "import numpy as np"
   ]
  },
  {
   "cell_type": "code",
   "execution_count": 18,
   "metadata": {},
   "outputs": [],
   "source": [
    "def dark_object_subtraction(image_path, percentile=0.1):\n",
    "\n",
    "    # Read the image in BGR format\n",
    "       # Load the image\n",
    "    image = cv2.imread(image_path, cv2.IMREAD_UNCHANGED)\n",
    "\n",
    "    if image is None:\n",
    "        raise ValueError(f\"Could not read image from {image_path}\")\n",
    "\n",
    "    # Assume image is a NumPy array (BGR or multispectral)\n",
    "    dark_pixel = np.percentile(image, percentile, axis=(0, 1))\n",
    "    corrected = np.clip(image - dark_pixel, 0, 255).astype(np.uint8)\n",
    "    return corrected"
   ]
  },
  {
   "cell_type": "code",
   "execution_count": 20,
   "metadata": {},
   "outputs": [
    {
     "data": {
      "text/plain": [
       "True"
      ]
     },
     "execution_count": 20,
     "metadata": {},
     "output_type": "execute_result"
    }
   ],
   "source": [
    "# Example usage\n",
    "corrected_image = dark_object_subtraction(\"testfiles/DJI_0025-h60.jpeg\")\n",
    "cv2.imwrite(\"corrected_image.jpeg\", corrected_image)"
   ]
  },
  {
   "cell_type": "markdown",
   "metadata": {},
   "source": [
    "Complex DOS and RC"
   ]
  },
  {
   "cell_type": "code",
   "execution_count": 26,
   "metadata": {},
   "outputs": [],
   "source": [
    "\n",
    "def rigorous_radiometric_correction(image_path, gain, offset, sunelev, edist, Esun, blackadjust=0.01, percentile=0.1):\n",
    "    \"\"\"\n",
    "    Perform rigorous radiometric correction for a multispectral drone image.\n",
    "    \n",
    "    Parameters:\n",
    "      image_path (str): Path to the multispectral image (e.g., from DJI Mavic 3M)\n",
    "      gain (array-like): Sensor gain for each band (list or numpy array)\n",
    "      offset (array-like): Sensor offset for each band\n",
    "      sunelev (float): Sun elevation in degrees\n",
    "      edist (float): Earth–Sun distance (in astronomical units)\n",
    "      Esun (array-like): Exo-atmospheric solar irradiance for each band\n",
    "      blackadjust (float): Adjustment factor (default 0.01) to account for non‑absolute black\n",
    "      percentile (float): Percentile value (in percent) for dark object estimation (e.g., 0.1 for 0.1th percentile)\n",
    "      \n",
    "    Returns:\n",
    "      np.ndarray: Corrected reflectance image (floating point, typically with values in [0, 1])\n",
    "    \"\"\"\n",
    "    # Load the image (assumed to be multispectral; shape: H x W x bands)\n",
    "    image = cv2.imread(image_path, cv2.IMREAD_UNCHANGED)\n",
    "    if image is None:\n",
    "        raise ValueError(f\"Could not read image from {image_path}\")\n",
    "    \n",
    "    # Convert image to float32 for calculations\n",
    "    image = image.astype(np.float32)\n",
    "    \n",
    "    # Convert digital numbers (DN) to radiance for each band:\n",
    "    # Radiance = gain * DN + offset\n",
    "    if image.ndim == 2:\n",
    "        # Single-channel case:\n",
    "        radiance = gain * image + offset\n",
    "    else:\n",
    "        # Multichannel: assume last dimension corresponds to bands\n",
    "        h, w, n_bands = image.shape\n",
    "        radiance = np.empty_like(image)\n",
    "        for i in range(n_bands):\n",
    "            radiance[:, :, i] = gain[i] * image[:, :, i] + offset[i]\n",
    "    \n",
    "    # Convert radiance to reflectance.\n",
    "    # Reflectance = (pi * radiance) / (Esun * cos(sun_zenith)) with sun zenith = (90 - sunelev)\n",
    "    sun_zenith = 90 - sunelev\n",
    "    cos_sun_zenith = np.cos(np.deg2rad(sun_zenith))\n",
    "    # Ensure Esun is an array (per band) and apply Earth-Sun distance correction\n",
    "    Esun = np.array(Esun)\n",
    "    reflectance = (np.pi * radiance) / (Esun * cos_sun_zenith)\n",
    "    reflectance = reflectance / (edist ** 2)\n",
    "    \n",
    "    # Estimate the dark object value per band on the reflectance image.\n",
    "    # Using the specified percentile over the spatial dimensions.\n",
    "    if reflectance.ndim == 2:\n",
    "        dark_obj = np.percentile(reflectance, percentile, axis=(0, 1))\n",
    "    else:\n",
    "        dark_obj = np.percentile(reflectance, percentile, axis=(0, 1))  # dark_obj is per band\n",
    "    \n",
    "    # Apply the black adjustment (reduce dark object value by the given fraction)\n",
    "    dark_obj_adj = dark_obj * (1 - blackadjust)\n",
    "    \n",
    "    # Subtract the adjusted dark object value from each band and clip to a valid reflectance range (e.g., [0, 1])\n",
    "    if reflectance.ndim == 2:\n",
    "        corrected = np.clip(reflectance - dark_obj_adj, 0, 1)\n",
    "    else:\n",
    "        corrected = np.empty_like(reflectance)\n",
    "        for i in range(reflectance.shape[2]):\n",
    "            corrected[:, :, i] = np.clip(reflectance[:, :, i] - dark_obj_adj[i], 0, 1)\n",
    "    \n",
    "    return corrected\n"
   ]
  },
  {
   "cell_type": "code",
   "execution_count": null,
   "metadata": {},
   "outputs": [],
   "source": [
    "\n",
    "# Example usage:\n",
    "if __name__ == \"__main__\":\n",
    "    # Replace the following dummy calibration values with your actual sensor metadata:\n",
    "    image_path = \"testfiles/Globhe_SampleData_Multispectral_NDVI.tif\"\n",
    "    # For instance, assume a 4-band multispectral sensor:\n",
    "    gain = [0.1, 0.11, 0.09, 0.1]         # Example gains per band\n",
    "    offset = [1, 1, 1, 1]                 # Example offsets per band\n",
    "    sunelev = 60.0                       # Sun elevation in degrees\n",
    "    edist = 1.0                          # Earth–Sun distance in AU\n",
    "    Esun = [1800, 1700, 1600, 1500]        # Exo-atmospheric irradiance per band (example values)\n",
    "    \n",
    "    # Run the correction function:\n",
    "    corrected_reflectance = rigorous_radiometric_correction(\n",
    "        image_path,\n",
    "        gain,\n",
    "        offset,\n",
    "        sunelev,\n",
    "        edist,\n",
    "        Esun,\n",
    "        blackadjust=0.01,\n",
    "        percentile=0.1  # Adjust as needed\n",
    "    )\n",
    "    \n",
    "    # Save or further process corrected_reflectance as needed.\n",
    "    # For visualization, you might convert to 8-bit after scaling reflectance values:\n",
    "    vis = (corrected_reflectance * 255).astype(np.uint8)\n",
    "    cv2.imwrite(\"corrected_reflectance.jpg\", vis)\n"
   ]
  },
  {
   "cell_type": "markdown",
   "metadata": {},
   "source": [
    "Implementing Geometric correction"
   ]
  }
 ],
 "metadata": {
  "kernelspec": {
   "display_name": "venv",
   "language": "python",
   "name": "python3"
  },
  "language_info": {
   "codemirror_mode": {
    "name": "ipython",
    "version": 3
   },
   "file_extension": ".py",
   "mimetype": "text/x-python",
   "name": "python",
   "nbconvert_exporter": "python",
   "pygments_lexer": "ipython3",
   "version": "3.12.3"
  }
 },
 "nbformat": 4,
 "nbformat_minor": 2
}
